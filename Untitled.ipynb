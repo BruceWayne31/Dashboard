{
 "cells": [
  {
   "cell_type": "code",
   "execution_count": 1,
   "metadata": {},
   "outputs": [],
   "source": [
    "import sqlite3 as sq"
   ]
  },
  {
   "cell_type": "code",
   "execution_count": 2,
   "metadata": {},
   "outputs": [],
   "source": [
    "conn=sq.connect(\"Records.db\")"
   ]
  },
  {
   "cell_type": "code",
   "execution_count": 4,
   "metadata": {},
   "outputs": [
    {
     "name": "stdout",
     "output_type": "stream",
     "text": [
      "('1773779', 'Tirthankar Roychowdhury\\xa0', ' Compliance: Data Privacy', '2021-11-23')\n",
      "('1773779', 'Tirthankar Roychowdhury\\xa0', 'Digital: Design Thinking', '2021-11-27')\n",
      "('1773779', 'Tirthankar Roychowdhury\\xa0', 'Communication', '2021-11-28')\n"
     ]
    }
   ],
   "source": [
    "c=conn.cursor()\n",
    "result=c.execute(\"SELECT * FROM deadlines;\").fetchall()\n",
    "for i in result:\n",
    "    print(i)"
   ]
  },
  {
   "cell_type": "code",
   "execution_count": null,
   "metadata": {},
   "outputs": [],
   "source": []
  }
 ],
 "metadata": {
  "kernelspec": {
   "display_name": "Python 3",
   "language": "python",
   "name": "python3"
  },
  "language_info": {
   "codemirror_mode": {
    "name": "ipython",
    "version": 3
   },
   "file_extension": ".py",
   "mimetype": "text/x-python",
   "name": "python",
   "nbconvert_exporter": "python",
   "pygments_lexer": "ipython3",
   "version": "3.7.6"
  }
 },
 "nbformat": 4,
 "nbformat_minor": 4
}
